{
 "cells": [
  {
   "cell_type": "code",
   "execution_count": 22,
   "metadata": {},
   "outputs": [
    {
     "name": "stderr",
     "output_type": "stream",
     "text": [
      "/var/folders/zh/wdgtpnt12x3fw44lgg__jbh40000gn/T/ipykernel_25128/3944994324.py:14: SettingWithCopyWarning: \n",
      "A value is trying to be set on a copy of a slice from a DataFrame.\n",
      "Try using .loc[row_indexer,col_indexer] = value instead\n",
      "\n",
      "See the caveats in the documentation: https://pandas.pydata.org/pandas-docs/stable/user_guide/indexing.html#returning-a-view-versus-a-copy\n",
      "  filtered_df['season'] = pd.to_datetime(filtered_df['season'].str.split('-', expand=True)[0], format='%Y')\n",
      "/var/folders/zh/wdgtpnt12x3fw44lgg__jbh40000gn/T/ipykernel_25128/3944994324.py:56: SettingWithCopyWarning: \n",
      "A value is trying to be set on a copy of a slice from a DataFrame.\n",
      "Try using .loc[row_indexer,col_indexer] = value instead\n",
      "\n",
      "See the caveats in the documentation: https://pandas.pydata.org/pandas-docs/stable/user_guide/indexing.html#returning-a-view-versus-a-copy\n",
      "  filtered_df['position'] = filtered_df['position'].map(position_mapping)\n"
     ]
    }
   ],
   "source": [
    "import pandas as pd\n",
    "\n",
    "# import dataset\n",
    "salaries = pd.read_csv('salaries_1985to2018.csv')\n",
    "players = pd.read_csv('players.csv')\n",
    "\n",
    "# Merge the two dataframes\n",
    "df = pd.merge(salaries, players, left_on='player_id', right_on='_id', how='left')\n",
    "df.drop('_id', axis=1, inplace=True)\n",
    "\n",
    "filtered_df = df[['season', 'salary', 'position', 'name']]\n",
    "\n",
    "# Extract the start year of the season and convert it to datetime\n",
    "filtered_df['season'] = pd.to_datetime(filtered_df['season'].str.split('-', expand=True)[0], format='%Y')\n",
    "\n",
    "# Mapping dictionary to shorten positions\n",
    "position_mapping = {\n",
    "    'Point Guard': 'PG',\n",
    "    'Shooting Guard': 'SG',\n",
    "    'Center and Small Forward and Power Forward': 'C',\n",
    "    'Power Forward and Small Forward': 'PF',\n",
    "    'Center': 'C',\n",
    "    'Power Forward': 'PF',\n",
    "    'Shooting Guard and Small Forward': 'SG/SF',\n",
    "    'Power Forward and Center': 'PF/C',\n",
    "    'Shooting Guard and Point Guard': 'SG/PG',\n",
    "    'Point Guard and Shooting Guard': 'PG/SG',\n",
    "    'Small Forward': 'SF',  \n",
    "    'Shooting Guard and Small Forward and Point Guard': 'SG/SF/PG',\n",
    "    'Small Forward and Shooting Guard': 'SF/SG',\n",
    "    'Point Guard and Power Forward and Small Forward and Shooting Guard': 'PG/PF/SF/SG',\n",
    "    'Small Forward and Power Forward': 'SF/PF',\n",
    "    'Center and Power Forward': 'C/PF',\n",
    "    'Small Forward and Power Forward and Shooting Guard': 'SF/PF/SG',\n",
    "    'Shooting Guard and Small Forward and Power Forward': 'SG/SF/PF',\n",
    "    'Shooting Guard and Point Guard and Small Forward': 'SG/PG/SF',\n",
    "    'Power Forward and Shooting Guard': 'PF/SG',\n",
    "    'Small Forward and Shooting Guard and Power Forward': 'SF/SG/PF',\n",
    "    'Power Forward and Small Forward and Shooting Guard': 'PF/SF/SG',\n",
    "    'Small Forward and Shooting Guard and Point Guard': 'SF/SG/PG',\n",
    "    'Small Forward and Center and Power Forward': 'SF/C/PF',\n",
    "    'Small Forward and Power Forward and Center': 'SF/PF/C',\n",
    "    'Small Forward and Point Guard and Shooting Guard': 'SF/PG/SG',\n",
    "    'Power Forward and Center and Small Forward': 'PF/C/SF',\n",
    "    'Small Forward and Center': 'SF/C',\n",
    "    'Center and Power Forward and Small Forward': 'C/PF/SF',\n",
    "    'Power Forward and Shooting Guard and Small Forward': 'PF/SG/SF',\n",
    "    'Shooting Guard and Power Forward and Small Forward': 'SG/PF/SF',\n",
    "    'Point Guard and Shooting Guard and Small Forward': 'PG/SG/SF',\n",
    "    'Power Forward and Small Forward and Center': 'PF/SF/C',\n",
    "    'Point Guard and Small Forward and Shooting Guard': 'PG/SF/SG',\n",
    "    'Point Guard and Small Forward': 'PG/SF'\n",
    "}\n",
    "\n",
    "# Map the positions using the mapping dictionary\n",
    "filtered_df['position'] = filtered_df['position'].map(position_mapping)\n",
    "\n",
    "original_positions = ['PG', 'SG', 'SF', 'PF', 'C']\n",
    "filtered_df = filtered_df[filtered_df['position'].isin(original_positions)]"
   ]
  },
  {
   "cell_type": "code",
   "execution_count": 16,
   "metadata": {},
   "outputs": [
    {
     "data": {
      "text/plain": [
       "season      datetime64[ns]\n",
       "salary               int64\n",
       "position            object\n",
       "name                object\n",
       "dtype: object"
      ]
     },
     "execution_count": 16,
     "metadata": {},
     "output_type": "execute_result"
    }
   ],
   "source": [
    "filtered_df.dtypes"
   ]
  },
  {
   "cell_type": "code",
   "execution_count": 23,
   "metadata": {},
   "outputs": [
    {
     "name": "stdout",
     "output_type": "stream",
     "text": [
      "There is a positive correlation of 140533.9565555491 between season year and salary for guard positions.\n"
     ]
    }
   ],
   "source": [
    "from sklearn.linear_model import LinearRegression\n",
    "\n",
    "# Make a copy of the original DataFrame\n",
    "filtered_df_copy = filtered_df.copy()\n",
    "\n",
    "# One-hot encode the 'position' column\n",
    "filtered_df_copy = pd.get_dummies(filtered_df_copy, columns=['position'])\n",
    "\n",
    "# Filter data for guard positions (PG, SG)\n",
    "guard_df = filtered_df_copy[(filtered_df_copy['position_SG'] == 1) | (filtered_df_copy['position_PG'] == 1)]\n",
    "\n",
    "relevant_features = filtered_df_copy.drop(['salary', 'name'], axis=1)\n",
    "\n",
    "# Prepare data: Extract relevant features\n",
    "X = relevant_features \n",
    "X.loc[:, 'season'] = pd.to_datetime(X['season']).dt.year  # Extract year from season using .loc\n",
    "y = filtered_df_copy['salary']  # Target variable: salary\n",
    "\n",
    "# Initialize and fit linear regression model\n",
    "model = LinearRegression()\n",
    "model.fit(X, y)\n",
    "\n",
    "# Get coefficients\n",
    "coefficient = model.coef_[0]  # Coefficient for season year\n",
    "\n",
    "# Check if coefficient is positive\n",
    "if coefficient > 0:\n",
    "    print(f\"There is a positive correlation of {coefficient} between season year and salary for guard positions.\")\n",
    "else:\n",
    "    print(\"There is no positive correlation between season year and salary for guard positions.\")\n"
   ]
  },
  {
   "cell_type": "markdown",
   "metadata": {},
   "source": [
    "## The coefficient value of approximately $140533.9565555491 indicates that, on average, for every one unit increase in the season year (e.g., moving from 1990 to 1991), the salary for guard positions increases by approximately $140533.9565555491."
   ]
  }
 ],
 "metadata": {
  "kernelspec": {
   "display_name": "ds4003",
   "language": "python",
   "name": "python3"
  },
  "language_info": {
   "codemirror_mode": {
    "name": "ipython",
    "version": 3
   },
   "file_extension": ".py",
   "mimetype": "text/x-python",
   "name": "python",
   "nbconvert_exporter": "python",
   "pygments_lexer": "ipython3",
   "version": "3.8.18"
  }
 },
 "nbformat": 4,
 "nbformat_minor": 2
}
